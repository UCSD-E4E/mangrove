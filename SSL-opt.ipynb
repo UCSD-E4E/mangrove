{
  "nbformat": 4,
  "nbformat_minor": 0,
  "metadata": {
    "kernelspec": {
      "display_name": "Python 3",
      "language": "python",
      "name": "python3"
    },
    "language_info": {
      "codemirror_mode": {
        "name": "ipython",
        "version": 3
      },
      "file_extension": ".py",
      "mimetype": "text/x-python",
      "name": "python",
      "nbconvert_exporter": "python",
      "pygments_lexer": "ipython3",
      "version": "3.7.4"
    },
    "colab": {
      "name": "Untitled.ipynb",
      "provenance": []
    }
  },
  "cells": [
    {
      "cell_type": "code",
      "metadata": {
        "id": "9JzNdNXmunoq",
        "colab_type": "code",
        "colab": {}
      },
      "source": [
        "from PIL import Image\n",
        "import numpy as np\n",
        "import os\n",
        "import matplotlib.pyplot as plt\n",
        "from skimage.color import rgb2gray\n",
        "from sklearn.semi_supervised import LabelSpreading,LabelPropagation\n",
        "import random\n",
        "from sklearn import svm\n",
        "from sklearn.kernel_approximation import Nystroem\n",
        "from sklearn.ensemble import RandomForestClassifier\n",
        "from sklearn import metrics\n",
        "from scipy.ndimage import gaussian_filter\n",
        "from skimage.filters import roberts,sobel, scharr, prewitt\n",
        "import time"
      ],
      "execution_count": 0,
      "outputs": []
    },
    {
      "cell_type": "code",
      "metadata": {
        "id": "d20Rb31Funou",
        "colab_type": "code",
        "colab": {}
      },
      "source": [
        "def read_files(tilesDir,labelledTilesDir):\n",
        "    \n",
        "    tiles = []\n",
        "    tile_names=[]\n",
        "    for r, d, f in os.walk(tilesDir):\n",
        "        for item in f:\n",
        "            if '.tif' in item:\n",
        "                tiles.append(os.path.join(r, item))\n",
        "                tile_names.append(item)\n",
        "\n",
        "    X_labelled=[] \n",
        "    X_unlabelled=[]\n",
        "    Y_labelled=[]\n",
        "    Y_unlabelled=[]\n",
        "    #Read in the images \n",
        "    for index, tile in enumerate(tiles):\n",
        "    \n",
        "        print(index,tile)\n",
        "        labelled_raster_path = os.path.join(labelledTilesDir,\"labelled_\"+tile_names[index])\n",
        "        if(os.path.exists(labelled_raster_path)):\n",
        "            start_time = time.time()\n",
        "            print(\"Procesing labelled tile...\")\n",
        "            lim = Image.open(labelled_raster_path)\n",
        "            label = np.array(lim)\n",
        "            alpha = label[:,:,3]\n",
        "            r = label[:,:,0]\n",
        "            alpha[alpha==255] = 1\n",
        "            labels = alpha\n",
        "            Y_labelled.append(labels)\n",
        "        \n",
        "            rim = Image.open(tile)\n",
        "            raster = np.array(rim)[:,:,:3]    #It is a 4096x4096x3 image\n",
        "            gaussian_i = gaussian_filtering(raster)\n",
        "            sobel_i = sobel_filtering(raster)\n",
        "            roberts_i = roberts_filtering(raster)\n",
        "            prewitt_i = prewitt_filtering(raster)\n",
        "            scharr_i = scharr_filtering(raster)\n",
        "            raster = np.dstack((raster,gaussian_i))\n",
        "            raster = np.dstack((raster,sobel_i))\n",
        "            raster = np.dstack((raster,roberts_i))\n",
        "            raster = np.dstack((raster,prewitt_i))\n",
        "            raster = np.dstack((raster,scharr_i))\n",
        "            \n",
        "            #gray = rgb2gray(raster)           #Converting the rgb to grayscale\n",
        "            X_labelled.append(raster)\n",
        "            print(\"Total time for labelled %s\"%(time.time() - start_time))\n",
        "        else:\n",
        "            start_time = time.time()\n",
        "            print(\"Processing unlabelled tile...\")\n",
        "            rim = Image.open(tile)\n",
        "            raster = np.array(rim)[:,:,:3]    #It is a 4096x4096x3 image\n",
        "            gaussian_i = gaussian_filtering(raster)\n",
        "            sobel_i = sobel_filtering(raster)\n",
        "            roberts_i = roberts_filtering(raster)\n",
        "            prewitt_i = prewitt_filtering(raster)\n",
        "            scharr_i = scharr_filtering(raster)\n",
        "            raster = np.dstack((raster,gaussian_i))\n",
        "            raster = np.dstack((raster,sobel_i))\n",
        "            raster = np.dstack((raster,roberts_i))\n",
        "            raster = np.dstack((raster,prewitt_i))\n",
        "            raster = np.dstack((raster,scharr_i))\n",
        "            #gray = rgb2gray(raster)           #Converting the rgb to grayscale\n",
        "            X_unlabelled.append(raster)\n",
        "            labels = np.full((4096, 4096), -1)\n",
        "            Y_unlabelled.append(labels)\n",
        "            print(\"Total time for unlabelled %s\"%(time.time() - start_time))\n",
        "        \n",
        "    X_labelled = np.asarray(X_labelled)\n",
        "    Y_labelled = np.asarray(Y_labelled)\n",
        "    X_unlabelled = np.asarray(X_unlabelled)\n",
        "    Y_unlabelled = np.asarray(Y_unlabelled)\n",
        "\n",
        "#     X_labelled = X_labelled.reshape(len(X_labelled)*X_labelled[0].shape[0]*X_labelled[0].shape[1],len(['R','G','B']))\n",
        "#     Y_labelled = Y_labelled.reshape(len(Y_labelled)*Y_labelled[0].shape[0]*Y_labelled[0].shape[1],)\n",
        "#     X_unlabelled = X_unlabelled.reshape(len(X_unlabelled)*X_unlabelled[0].shape[0]*X_unlabelled[0].shape[1],len(['R','G','B']))\n",
        "#     Y_unlabelled = Y_unlabelled.reshape(len(Y_unlabelled)*Y_unlabelled[0].shape[0]*Y_unlabelled[0].shape[1],)\n",
        "    X_labelled = X_labelled.reshape(len(X_labelled)*X_labelled[0].shape[0]*X_labelled[0].shape[1],10)\n",
        "    Y_labelled = Y_labelled.reshape(len(Y_labelled)*Y_labelled[0].shape[0]*Y_labelled[0].shape[1],)\n",
        "    X_unlabelled = X_unlabelled.reshape(len(X_unlabelled)*X_unlabelled[0].shape[0]*X_unlabelled[0].shape[1],10)\n",
        "    Y_unlabelled = Y_unlabelled.reshape(len(Y_unlabelled)*Y_unlabelled[0].shape[0]*Y_unlabelled[0].shape[1],)\n",
        "    \n",
        "    return X_labelled,Y_labelled,X_unlabelled,Y_unlabelled"
      ],
      "execution_count": 0,
      "outputs": []
    },
    {
      "cell_type": "code",
      "metadata": {
        "id": "qBg6rhhrunox",
        "colab_type": "code",
        "colab": {}
      },
      "source": [
        "def gaussian_filtering(image):\n",
        "    start_time = time.time()\n",
        "    image[:,:,0] = gaussian_filter(image[:,:,0], sigma = 10)\n",
        "    image[:,:,1] = gaussian_filter(image[:,:,1], sigma = 10)\n",
        "    image[:,:,2] = gaussian_filter(image[:,:,2], sigma = 10)\n",
        "    print(\"time for gaussian %s\"%(time.time() - start_time))\n",
        "    return image"
      ],
      "execution_count": 0,
      "outputs": []
    },
    {
      "cell_type": "code",
      "metadata": {
        "id": "6nzIrZTOuno1",
        "colab_type": "code",
        "colab": {}
      },
      "source": [
        "def prewitt_filtering(image):\n",
        "    start_time = time.time()\n",
        "    gray = rgb2gray(image)\n",
        "    gray = prewitt(gray)\n",
        "    print(\"time prewitt %s\"%(time.time() - start_time))\n",
        "    return gray"
      ],
      "execution_count": 0,
      "outputs": []
    },
    {
      "cell_type": "code",
      "metadata": {
        "id": "7LsGzfaRuno5",
        "colab_type": "code",
        "colab": {}
      },
      "source": [
        "def roberts_filtering(image):\n",
        "    start_time = time.time()\n",
        "    gray = rgb2gray(image)\n",
        "    gray = roberts(gray)\n",
        "    print(\"time roberts %s\"%(time.time() - start_time))\n",
        "    return gray"
      ],
      "execution_count": 0,
      "outputs": []
    },
    {
      "cell_type": "code",
      "metadata": {
        "id": "q8idMOtCuno9",
        "colab_type": "code",
        "colab": {}
      },
      "source": [
        "def scharr_filtering(image):\n",
        "    start_time = time.time()\n",
        "    gray = rgb2gray(image)\n",
        "    gray = scharr(gray)\n",
        "    print(\"time scharr %s\"%(time.time() - start_time))\n",
        "    return gray"
      ],
      "execution_count": 0,
      "outputs": []
    },
    {
      "cell_type": "code",
      "metadata": {
        "id": "0hW0uCkEunpA",
        "colab_type": "code",
        "colab": {}
      },
      "source": [
        "def sobel_filtering(image):\n",
        "    start_time = time.time()\n",
        "    gray = rgb2gray(image)\n",
        "    gray = sobel(gray)\n",
        "    print(\"time sobel %s\"%(time.time() - start_time))\n",
        "    return gray"
      ],
      "execution_count": 0,
      "outputs": []
    },
    {
      "cell_type": "code",
      "metadata": {
        "id": "Sluj5DdRunpD",
        "colab_type": "code",
        "colab": {}
      },
      "source": [
        "# def check_number_distinct_labels(y):\n",
        "#     mangroves=0\n",
        "#     non_mangroves=0\n",
        "#     mangroves_index=[]\n",
        "#     non_mangroves_index=[]\n",
        "#     for index,i in enumerate(y):\n",
        "#         if i==1:\n",
        "#             mangroves+=1\n",
        "#             mangroves_index.append(index)\n",
        "#         if i==0:\n",
        "#             non_mangroves+=1\n",
        "#             non_mangroves_index.append(index)\n",
        "#     print(\"Number of mangrove pixels: \",mangroves)\n",
        "#     print(\"Number of non mangrove pixels: \",non_mangroves)\n",
        "#     return mangroves_index,non_mangroves_index\n",
        "\n",
        "\n",
        "def check_number_distinct_labels(y):\n",
        "    mangroves_index = np.where(y == 1)\n",
        "    non_mangroves_index = np.where(y == 0)\n",
        "    mangroves = len(mangroves_index[0])\n",
        "    non_mangroves = len(non_mangroves_index[0])\n",
        "    print(\"Number of mangrove pixels: \",mangroves)\n",
        "    print(\"Number of non mangrove pixels: \",non_mangroves)\n",
        "    return list(mangroves_index[0]),list(non_mangroves_index[0])"
      ],
      "execution_count": 0,
      "outputs": []
    },
    {
      "cell_type": "code",
      "metadata": {
        "id": "2IJhQe_junpG",
        "colab_type": "code",
        "colab": {}
      },
      "source": [
        "def get_random_points(mangroves_index,non_mangroves_index,length):\n",
        "    random_mangroves_index = random.sample(mangroves_index, length)\n",
        "    random_non_mangroves_index = random.sample(non_mangroves_index,length)\n",
        "    return random_mangroves_index,random_non_mangroves_index"
      ],
      "execution_count": 0,
      "outputs": []
    },
    {
      "cell_type": "code",
      "metadata": {
        "id": "MGyPlcOVunpJ",
        "colab_type": "code",
        "colab": {}
      },
      "source": [
        "def form_training_sets(X,Y,random_mangroves_index,random_non_mangroves_index):\n",
        "    X_train=[]\n",
        "    y_train=[]\n",
        "    X_t1 = list(X[random_mangroves_index])\n",
        "    y_t1 = list(Y[random_mangroves_index])\n",
        "    X_t2 =list(X[random_non_mangroves_index])\n",
        "    y_t2 = list(Y[random_non_mangroves_index])\n",
        "    X_train =  X_t1 + X_t2\n",
        "    y_train =  y_t1 + y_t2\n",
        "   \n",
        "\n",
        "    return X_train,y_train"
      ],
      "execution_count": 0,
      "outputs": []
    },
    {
      "cell_type": "code",
      "metadata": {
        "id": "WimlYofuunpQ",
        "colab_type": "code",
        "colab": {}
      },
      "source": [
        "\n",
        "def train_classifier(X,y):\n",
        "    clf=RandomForestClassifier(max_depth = 2)\n",
        "    clf.fit(X, y)\n",
        "    return clf\n"
      ],
      "execution_count": 0,
      "outputs": []
    },
    {
      "cell_type": "code",
      "metadata": {
        "id": "cxxGdAu8unpT",
        "colab_type": "code",
        "colab": {}
      },
      "source": [
        "def create_test_sets(X,Y):\n",
        "    X_test=[]\n",
        "    y_test=[]\n",
        "    for i in range(len(X)-1, -1, -1):\n",
        "        X_test.append(X[i])\n",
        "        y_test.append(Y[i])\n",
        "        if len(X_test) >=30000:\n",
        "            break\n",
        "    return X_test,y_test"
      ],
      "execution_count": 0,
      "outputs": []
    },
    {
      "cell_type": "code",
      "metadata": {
        "id": "haVFEjg3unpW",
        "colab_type": "code",
        "colab": {}
      },
      "source": [
        "def predict_labels(clf,X):\n",
        "    return clf.predict(X)\n"
      ],
      "execution_count": 0,
      "outputs": []
    },
    {
      "cell_type": "code",
      "metadata": {
        "id": "7CZRWkgZunpZ",
        "colab_type": "code",
        "colab": {
          "base_uri": "https://localhost:8080/",
          "height": 34
        },
        "outputId": "6d2641c5-c731-46c9-8351-d93466b06fd5"
      },
      "source": [
        "os.getcwd()"
      ],
      "execution_count": 14,
      "outputs": [
        {
          "output_type": "execute_result",
          "data": {
            "text/plain": [
              "'/content'"
            ]
          },
          "metadata": {
            "tags": []
          },
          "execution_count": 14
        }
      ]
    },
    {
      "cell_type": "code",
      "metadata": {
        "id": "0aQIfISIvro3",
        "colab_type": "code",
        "colab": {
          "base_uri": "https://localhost:8080/",
          "height": 34
        },
        "outputId": "2b3f19b8-c233-43e8-924a-a88157a34454"
      },
      "source": [
        "from google.colab import drive\n",
        "drive.mount('/content/drive')"
      ],
      "execution_count": 15,
      "outputs": [
        {
          "output_type": "stream",
          "text": [
            "Drive already mounted at /content/drive; to attempt to forcibly remount, call drive.mount(\"/content/drive\", force_remount=True).\n"
          ],
          "name": "stdout"
        }
      ]
    },
    {
      "cell_type": "code",
      "metadata": {
        "id": "_WmZr3nMunpd",
        "colab_type": "code",
        "colab": {
          "base_uri": "https://localhost:8080/",
          "height": 578
        },
        "outputId": "0be819ee-e6b2-426d-caff-15c2b7f93edd"
      },
      "source": [
        "if __name__ == \"__main__\":\n",
        "    #Read the image files\n",
        "    start_time = time.time()\n",
        "    tilesDir  = \"/content/drive/My Drive/Colab Notebooks/Tiles\" \n",
        "    labelledTilesDir = \"/content/drive/My Drive/Colab Notebooks/Labelled_Tiles\"\n",
        "    \n",
        "    print(\"Reading the original tiles and the available labelled tiles....\")\n",
        "    X_labelled,Y_labelled,X_unlabelled,Y_unlabelled = read_files(tilesDir,labelledTilesDir)\n",
        "    #print(X_labelled.shape)\n",
        "    "
      ],
      "execution_count": 16,
      "outputs": [
        {
          "output_type": "stream",
          "text": [
            "Reading the original tiles and the available labelled tiles....\n",
            "0 /content/drive/My Drive/Colab Notebooks/Tiles/clippedtest_2_3.tif\n",
            "Processing unlabelled tile...\n",
            "time for gaussian 6.228050231933594\n",
            "time sobel 1.1302857398986816\n",
            "time roberts 0.7832095623016357\n",
            "time prewitt 0.9567339420318604\n",
            "time scharr 0.9282853603363037\n",
            "Total time for unlabelled 13.674824476242065\n",
            "1 /content/drive/My Drive/Colab Notebooks/Tiles/clippedtest_3_3.tif\n",
            "Processing unlabelled tile...\n",
            "time for gaussian 6.103715658187866\n",
            "time sobel 0.9152545928955078\n",
            "time roberts 0.7532267570495605\n",
            "time prewitt 0.8907713890075684\n",
            "time scharr 0.8923568725585938\n",
            "Total time for unlabelled 12.352570295333862\n",
            "2 /content/drive/My Drive/Colab Notebooks/Tiles/clippedtest_3_2.tif\n",
            "Procesing labelled tile...\n",
            "time for gaussian 6.23469877243042\n",
            "time sobel 0.8861279487609863\n",
            "time roberts 0.757068395614624\n",
            "time prewitt 0.88262939453125\n",
            "time scharr 0.8867578506469727\n",
            "Total time for labelled 12.482073545455933\n",
            "3 /content/drive/My Drive/Colab Notebooks/Tiles/clippedtest_2_2.tif\n",
            "Procesing labelled tile...\n",
            "time for gaussian 6.0976245403289795\n",
            "time sobel 0.9153106212615967\n",
            "time roberts 0.7736949920654297\n",
            "time prewitt 0.8895611763000488\n",
            "time scharr 0.8950884342193604\n",
            "Total time for labelled 12.342191457748413\n"
          ],
          "name": "stdout"
        }
      ]
    },
    {
      "cell_type": "code",
      "metadata": {
        "id": "pRHrSQDounpi",
        "colab_type": "code",
        "colab": {
          "base_uri": "https://localhost:8080/",
          "height": 68
        },
        "outputId": "98b7709a-589b-45b6-e021-5bdbeba23c41"
      },
      "source": [
        "    print(\"Checking number of mangrove/non-mangrove tiles in labelled data....\")\n",
        "    mangroves_index,non_mangroves_index = check_number_distinct_labels(Y_labelled)\n",
        "\n",
        "    random_mangroves_index,random_non_mangroves_index = get_random_points(mangroves_index,non_mangroves_index,100000)\n",
        "    "
      ],
      "execution_count": 17,
      "outputs": [
        {
          "output_type": "stream",
          "text": [
            "Checking number of mangrove/non-mangrove tiles in labelled data....\n",
            "Number of mangrove pixels:  15798759\n",
            "Number of non mangrove pixels:  17755673\n"
          ],
          "name": "stdout"
        }
      ]
    },
    {
      "cell_type": "code",
      "metadata": {
        "id": "fQWbxK-dunpl",
        "colab_type": "code",
        "colab": {
          "base_uri": "https://localhost:8080/",
          "height": 170
        },
        "outputId": "5fb5a04a-ad45-44e1-b6aa-c1b77173c72f"
      },
      "source": [
        "    X_train,y_train = form_training_sets(X_labelled,Y_labelled,random_mangroves_index,random_non_mangroves_index)\n",
        "   # X_train,y_train = form_training_sets(X_labelled,Y_labelled,mangroves_index,non_mangroves_index)\n",
        "    # print(len(X_train))\n",
        "    # print(len(y_train))\n",
        "\n",
        "    print(\"Fitting the classifier....\")\n",
        "    clf = train_classifier(X_train,y_train)\n",
        "    \n",
        "    print(\"Predicting the labels for the unlabelled pixels....\")\n",
        "    y_unlabelled_pred = predict_labels(clf,X_unlabelled)\n",
        "    \n",
        "    \n",
        "    print(\"Retraining the model with using the unlabelled data....\")\n",
        "    mangroves_index,non_mangroves_index = check_number_distinct_labels(y_unlabelled_pred)\n",
        "    random_mangroves_index,random_non_mangroves_index = get_random_points(mangroves_index,non_mangroves_index,30000)\n",
        "    X_train_unlabelled,y_train_unlabelled = form_training_sets(X_unlabelled,y_unlabelled_pred,random_mangroves_index,random_non_mangroves_index)\n",
        "    X_train.extend(X_train_unlabelled)\n",
        "    y_train.extend(y_train_unlabelled)\n",
        "    clf = train_classifier(X_train,y_train)\n",
        "    \n",
        "    print(\"Testing the model....\")\n",
        "    X_test,y_test = create_test_sets(X_labelled,Y_labelled)\n",
        "    print(\"Performance on train sets...: \",clf.score(X_train, y_train))\n",
        "    print(\"Performance of test sets of 20,000 samples:\",metrics.accuracy_score(y_test, predict_labels(clf,X_test)))\n",
        "    print(\"time %s\"%(time.time() - start_time))\n",
        "    \n",
        "    "
      ],
      "execution_count": 18,
      "outputs": [
        {
          "output_type": "stream",
          "text": [
            "Fitting the classifier....\n",
            "Predicting the labels for the unlabelled pixels....\n",
            "Retraining the model with using the unlabelled data....\n",
            "Number of mangrove pixels:  15077674\n",
            "Number of non mangrove pixels:  18476758\n",
            "Testing the model....\n",
            "Performance on train sets...:  0.8285615384615385\n",
            "Performance of test sets of 20,000 samples: 0.7160666666666666\n",
            "time 221.84719133377075\n"
          ],
          "name": "stdout"
        }
      ]
    },
    {
      "cell_type": "code",
      "metadata": {
        "id": "VrUJibkbunpo",
        "colab_type": "code",
        "colab": {}
      },
      "source": [
        ""
      ],
      "execution_count": 0,
      "outputs": []
    }
  ]
}