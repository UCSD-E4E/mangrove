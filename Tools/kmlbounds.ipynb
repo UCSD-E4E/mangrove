{
  "nbformat": 4,
  "nbformat_minor": 0,
  "metadata": {
    "colab": {
      "name": "kmlbounds.ipynb",
      "provenance": [],
      "collapsed_sections": []
    },
    "kernelspec": {
      "name": "python3",
      "display_name": "Python 3"
    },
    "widgets": {
      "application/vnd.jupyter.widget-state+json": {
        "584a305bf6ac4d5d82bfd3367dd13acd": {
          "model_module": "@jupyter-widgets/controls",
          "model_name": "HBoxModel",
          "state": {
            "_view_name": "HBoxView",
            "_dom_classes": [],
            "_model_name": "HBoxModel",
            "_view_module": "@jupyter-widgets/controls",
            "_model_module_version": "1.5.0",
            "_view_count": null,
            "_view_module_version": "1.5.0",
            "box_style": "",
            "layout": "IPY_MODEL_d73bd36d69914ce79a76069dcfa743d1",
            "_model_module": "@jupyter-widgets/controls",
            "children": [
              "IPY_MODEL_cfcb3c1fa1844192a6cc07c899d07ff8",
              "IPY_MODEL_2eabd83c36574d3a8f6ae9384ad29f69"
            ]
          }
        },
        "d73bd36d69914ce79a76069dcfa743d1": {
          "model_module": "@jupyter-widgets/base",
          "model_name": "LayoutModel",
          "state": {
            "_view_name": "LayoutView",
            "grid_template_rows": null,
            "right": null,
            "justify_content": null,
            "_view_module": "@jupyter-widgets/base",
            "overflow": null,
            "_model_module_version": "1.2.0",
            "_view_count": null,
            "flex_flow": null,
            "width": null,
            "min_width": null,
            "border": null,
            "align_items": null,
            "bottom": null,
            "_model_module": "@jupyter-widgets/base",
            "top": null,
            "grid_column": null,
            "overflow_y": null,
            "overflow_x": null,
            "grid_auto_flow": null,
            "grid_area": null,
            "grid_template_columns": null,
            "flex": null,
            "_model_name": "LayoutModel",
            "justify_items": null,
            "grid_row": null,
            "max_height": null,
            "align_content": null,
            "visibility": null,
            "align_self": null,
            "height": null,
            "min_height": null,
            "padding": null,
            "grid_auto_rows": null,
            "grid_gap": null,
            "max_width": null,
            "order": null,
            "_view_module_version": "1.2.0",
            "grid_template_areas": null,
            "object_position": null,
            "object_fit": null,
            "grid_auto_columns": null,
            "margin": null,
            "display": null,
            "left": null
          }
        },
        "cfcb3c1fa1844192a6cc07c899d07ff8": {
          "model_module": "@jupyter-widgets/controls",
          "model_name": "FloatProgressModel",
          "state": {
            "_view_name": "ProgressView",
            "style": "IPY_MODEL_ae21fefa094a4a9bb04acaec4e59f863",
            "_dom_classes": [],
            "description": "100%",
            "_model_name": "FloatProgressModel",
            "bar_style": "success",
            "max": 85,
            "_view_module": "@jupyter-widgets/controls",
            "_model_module_version": "1.5.0",
            "value": 85,
            "_view_count": null,
            "_view_module_version": "1.5.0",
            "orientation": "horizontal",
            "min": 0,
            "description_tooltip": null,
            "_model_module": "@jupyter-widgets/controls",
            "layout": "IPY_MODEL_eda59a4bf4a24390abb901083b327844"
          }
        },
        "2eabd83c36574d3a8f6ae9384ad29f69": {
          "model_module": "@jupyter-widgets/controls",
          "model_name": "HTMLModel",
          "state": {
            "_view_name": "HTMLView",
            "style": "IPY_MODEL_b3eb9bc7bd4443329594d6173b287ffa",
            "_dom_classes": [],
            "description": "",
            "_model_name": "HTMLModel",
            "placeholder": "​",
            "_view_module": "@jupyter-widgets/controls",
            "_model_module_version": "1.5.0",
            "value": " 85/85 [00:02&lt;00:00, 33.98it/s]",
            "_view_count": null,
            "_view_module_version": "1.5.0",
            "description_tooltip": null,
            "_model_module": "@jupyter-widgets/controls",
            "layout": "IPY_MODEL_3bc4f7de91c0472baf998e8f689ba50c"
          }
        },
        "ae21fefa094a4a9bb04acaec4e59f863": {
          "model_module": "@jupyter-widgets/controls",
          "model_name": "ProgressStyleModel",
          "state": {
            "_view_name": "StyleView",
            "_model_name": "ProgressStyleModel",
            "description_width": "initial",
            "_view_module": "@jupyter-widgets/base",
            "_model_module_version": "1.5.0",
            "_view_count": null,
            "_view_module_version": "1.2.0",
            "bar_color": null,
            "_model_module": "@jupyter-widgets/controls"
          }
        },
        "eda59a4bf4a24390abb901083b327844": {
          "model_module": "@jupyter-widgets/base",
          "model_name": "LayoutModel",
          "state": {
            "_view_name": "LayoutView",
            "grid_template_rows": null,
            "right": null,
            "justify_content": null,
            "_view_module": "@jupyter-widgets/base",
            "overflow": null,
            "_model_module_version": "1.2.0",
            "_view_count": null,
            "flex_flow": null,
            "width": null,
            "min_width": null,
            "border": null,
            "align_items": null,
            "bottom": null,
            "_model_module": "@jupyter-widgets/base",
            "top": null,
            "grid_column": null,
            "overflow_y": null,
            "overflow_x": null,
            "grid_auto_flow": null,
            "grid_area": null,
            "grid_template_columns": null,
            "flex": null,
            "_model_name": "LayoutModel",
            "justify_items": null,
            "grid_row": null,
            "max_height": null,
            "align_content": null,
            "visibility": null,
            "align_self": null,
            "height": null,
            "min_height": null,
            "padding": null,
            "grid_auto_rows": null,
            "grid_gap": null,
            "max_width": null,
            "order": null,
            "_view_module_version": "1.2.0",
            "grid_template_areas": null,
            "object_position": null,
            "object_fit": null,
            "grid_auto_columns": null,
            "margin": null,
            "display": null,
            "left": null
          }
        },
        "b3eb9bc7bd4443329594d6173b287ffa": {
          "model_module": "@jupyter-widgets/controls",
          "model_name": "DescriptionStyleModel",
          "state": {
            "_view_name": "StyleView",
            "_model_name": "DescriptionStyleModel",
            "description_width": "",
            "_view_module": "@jupyter-widgets/base",
            "_model_module_version": "1.5.0",
            "_view_count": null,
            "_view_module_version": "1.2.0",
            "_model_module": "@jupyter-widgets/controls"
          }
        },
        "3bc4f7de91c0472baf998e8f689ba50c": {
          "model_module": "@jupyter-widgets/base",
          "model_name": "LayoutModel",
          "state": {
            "_view_name": "LayoutView",
            "grid_template_rows": null,
            "right": null,
            "justify_content": null,
            "_view_module": "@jupyter-widgets/base",
            "overflow": null,
            "_model_module_version": "1.2.0",
            "_view_count": null,
            "flex_flow": null,
            "width": null,
            "min_width": null,
            "border": null,
            "align_items": null,
            "bottom": null,
            "_model_module": "@jupyter-widgets/base",
            "top": null,
            "grid_column": null,
            "overflow_y": null,
            "overflow_x": null,
            "grid_auto_flow": null,
            "grid_area": null,
            "grid_template_columns": null,
            "flex": null,
            "_model_name": "LayoutModel",
            "justify_items": null,
            "grid_row": null,
            "max_height": null,
            "align_content": null,
            "visibility": null,
            "align_self": null,
            "height": null,
            "min_height": null,
            "padding": null,
            "grid_auto_rows": null,
            "grid_gap": null,
            "max_width": null,
            "order": null,
            "_view_module_version": "1.2.0",
            "grid_template_areas": null,
            "object_position": null,
            "object_fit": null,
            "grid_auto_columns": null,
            "margin": null,
            "display": null,
            "left": null
          }
        }
      }
    }
  },
  "cells": [
    {
      "cell_type": "markdown",
      "metadata": {
        "id": "5TGYmCcrq5LK",
        "colab_type": "text"
      },
      "source": [
        "This tool is used to iterate through a folder of shapefiles and returning corresponding KMLs containing the maximum extents of the input shapefiles. More specifically, this is used to get KMLs for downloading satellite data corresponding to our label data which is in the form of shapefiles. \n",
        "\n",
        "\n",
        "# Setup\n",
        "Installing and Importing libraries + Mounting Google Drive"
      ]
    },
    {
      "cell_type": "code",
      "metadata": {
        "id": "-Y5Vn-nEgc7j",
        "colab_type": "code",
        "colab": {}
      },
      "source": [
        "%%capture\n",
        "!apt-get update\n",
        "!apt-get install libgdal-dev -y\n",
        "!apt-get install python-gdal -y\n",
        "!apt-get install python-numpy python-scipy -y\n",
        "!pip install fiona\n",
        "!pip install geopandas\n",
        "!pip install shapely\n",
        "import gdal "
      ],
      "execution_count": null,
      "outputs": []
    },
    {
      "cell_type": "code",
      "metadata": {
        "id": "Ff8NmeMPgYPl",
        "colab_type": "code",
        "colab": {
          "base_uri": "https://localhost:8080/",
          "height": 71
        },
        "outputId": "f0432c2f-82be-4459-bbbf-64c0ed87274b"
      },
      "source": [
        "from tqdm.autonotebook import tqdm\n",
        "import pandas as pd\n",
        "import numpy as np\n",
        "import geopandas\n",
        "import shapely\n",
        "import fiona\n",
        "import os\n",
        "\n",
        "\n",
        "from shapely.geometry import box\n",
        "from os.path import splitext\n",
        "from os.path import basename\n",
        "from os.path import join\n",
        "fiona.supported_drivers['KML'] = 'rw'"
      ],
      "execution_count": null,
      "outputs": [
        {
          "output_type": "stream",
          "text": [
            "/usr/local/lib/python3.6/dist-packages/ipykernel_launcher.py:7: TqdmExperimentalWarning: Using `tqdm.autonotebook.tqdm` in notebook mode. Use `tqdm.tqdm` instead to force console mode (e.g. in jupyter console)\n",
            "  import sys\n"
          ],
          "name": "stderr"
        }
      ]
    },
    {
      "cell_type": "code",
      "metadata": {
        "id": "10fXMTSTgMr0",
        "colab_type": "code",
        "colab": {
          "base_uri": "https://localhost:8080/",
          "height": 122
        },
        "outputId": "808647ec-e422-42ca-b9e2-558e444f87fc"
      },
      "source": [
        "from google.colab import drive\n",
        "drive.mount('/content/drive')"
      ],
      "execution_count": null,
      "outputs": [
        {
          "output_type": "stream",
          "text": [
            "Go to this URL in a browser: https://accounts.google.com/o/oauth2/auth?client_id=947318989803-6bn6qk8qdgf4n4g3pfee6491hc0brc4i.apps.googleusercontent.com&redirect_uri=urn%3aietf%3awg%3aoauth%3a2.0%3aoob&response_type=code&scope=email%20https%3a%2f%2fwww.googleapis.com%2fauth%2fdocs.test%20https%3a%2f%2fwww.googleapis.com%2fauth%2fdrive%20https%3a%2f%2fwww.googleapis.com%2fauth%2fdrive.photos.readonly%20https%3a%2f%2fwww.googleapis.com%2fauth%2fpeopleapi.readonly\n",
            "\n",
            "Enter your authorization code:\n",
            "··········\n",
            "Mounted at /content/drive\n"
          ],
          "name": "stdout"
        }
      ]
    },
    {
      "cell_type": "markdown",
      "metadata": {
        "id": "nW2nsZVhyMRu",
        "colab_type": "text"
      },
      "source": [
        "Copying shapefiles from google drive and unzipping into a folder"
      ]
    },
    {
      "cell_type": "code",
      "metadata": {
        "id": "wVL8WS-Gh-Zi",
        "colab_type": "code",
        "colab": {}
      },
      "source": [
        "!mkdir shapefiles\n",
        "!cp \"/content/drive/Shared drives/SIO and E4E Mangroves /Data/Labelled Data/Detailed Polygon Labeling/Shapefile Datapack.zip\" .\n",
        "!unzip \"Shapefile Datapack.zip\" -d shapefiles"
      ],
      "execution_count": null,
      "outputs": []
    },
    {
      "cell_type": "markdown",
      "metadata": {
        "id": "Ns-NXmpQyU7u",
        "colab_type": "text"
      },
      "source": [
        ""
      ]
    },
    {
      "cell_type": "code",
      "metadata": {
        "id": "iRQIHB7lil9C",
        "colab_type": "code",
        "colab": {
          "base_uri": "https://localhost:8080/",
          "height": 120,
          "referenced_widgets": [
            "584a305bf6ac4d5d82bfd3367dd13acd",
            "d73bd36d69914ce79a76069dcfa743d1",
            "cfcb3c1fa1844192a6cc07c899d07ff8",
            "2eabd83c36574d3a8f6ae9384ad29f69",
            "ae21fefa094a4a9bb04acaec4e59f863",
            "eda59a4bf4a24390abb901083b327844",
            "b3eb9bc7bd4443329594d6173b287ffa",
            "3bc4f7de91c0472baf998e8f689ba50c"
          ]
        },
        "outputId": "40b5fa4f-7488-4a13-c87b-c2d3d17cb2e0"
      },
      "source": [
        "for root, dirs, files in os.walk(\"shapefiles\"):\n",
        "    for file in tqdm(files):\n",
        "        if file.endswith(\".shp\"):\n",
        "            cur_file = join(root,file)\n",
        "            filename = basename(file)\n",
        "            dest =  join(\"kmls\", \"KML_\" + splitext(filename)[0] + \".kml\")\n",
        "\n",
        "            shp = geopandas.read_file(cur_file)\n",
        "            bounds = geopandas.GeoDataFrame(pd.DataFrame(['p1'], columns = ['geom']), crs = {'init':'epsg:4326'}, geometry = [box(*shp.total_bounds)])\n",
        "\n",
        "            bounds.to_file(dest, driver='KML')"
      ],
      "execution_count": null,
      "outputs": [
        {
          "output_type": "display_data",
          "data": {
            "application/vnd.jupyter.widget-view+json": {
              "model_id": "584a305bf6ac4d5d82bfd3367dd13acd",
              "version_minor": 0,
              "version_major": 2
            },
            "text/plain": [
              "HBox(children=(FloatProgress(value=0.0, max=85.0), HTML(value='')))"
            ]
          },
          "metadata": {
            "tags": []
          }
        },
        {
          "output_type": "stream",
          "text": [
            "/usr/local/lib/python3.6/dist-packages/pyproj/crs/crs.py:53: FutureWarning: '+init=<authority>:<code>' syntax is deprecated. '<authority>:<code>' is the preferred initialization method. When making the change, be mindful of axis order changes: https://pyproj4.github.io/pyproj/stable/gotchas.html#axis-order-changes-in-proj-6\n",
            "  return _prepare_from_string(\" \".join(pjargs))\n"
          ],
          "name": "stderr"
        },
        {
          "output_type": "stream",
          "text": [
            "\n"
          ],
          "name": "stdout"
        }
      ]
    },
    {
      "cell_type": "code",
      "metadata": {
        "id": "9gyVQ76rqoHh",
        "colab_type": "code",
        "colab": {
          "base_uri": "https://localhost:8080/",
          "height": 340
        },
        "outputId": "0ac245b4-b8bd-41c7-8d81-27daca2df9cd"
      },
      "source": [
        "!zip -r kml_pack.zip kmls/"
      ],
      "execution_count": null,
      "outputs": [
        {
          "output_type": "stream",
          "text": [
            "  adding: kmls/ (stored 0%)\n",
            "  adding: kmls/KML_lap_2018-07_site01_labels_m-nm.kml (deflated 50%)\n",
            "  adding: kmls/KML_lap_2018-07_site06_120m_RGB_m-nm.kml (deflated 50%)\n",
            "  adding: kmls/KML_psc_2018-07_site_10_labels_m-nm.kml (deflated 50%)\n",
            "  adding: kmls/KML_psc_201807_site9_mnm.kml (deflated 50%)\n",
            "  adding: kmls/KML_psc_2018-05_site11_120m_RGB_dissolved.kml (deflated 51%)\n",
            "  adding: kmls/KML_lap_2018-07_site04_labels_m-nm.kml (deflated 50%)\n",
            "  adding: kmls/KML_psc_2018-05_site01_120m_RGB_cc labels_m-nm.kml (deflated 51%)\n",
            "  adding: kmls/KML_lap_2019-07_site03_labels_m-nm.kml (deflated 50%)\n",
            "  adding: kmls/KML_psc_2018-05_site_09_labels_m-nm_final.kml (deflated 51%)\n",
            "  adding: kmls/KML_psc_2018-07_site11_120m_RGB_m-nm.kml (deflated 50%)\n",
            "  adding: kmls/KML_lap_2018-07_site05_120m_m-nm_dissolve.kml (deflated 51%)\n",
            "  adding: kmls/KML_psc_2018-05_site12_labels_m-nm.kml (deflated 50%)\n",
            "  adding: kmls/KML_psc_2018_05_site1314_120m_mnm.kml (deflated 51%)\n",
            "  adding: kmls/KML_psc_2018-05_site8_labels_m-nm.kml (deflated 50%)\n",
            "  adding: kmls/KML_lap_2019-07_site06_120m_labels_m-nm.kml (deflated 51%)\n",
            "  adding: kmls/KML_Orto_Puerto_Gata_labels_m-nm_final.kml (deflated 51%)\n",
            "  adding: kmls/KML_psc_2018-07_site08_120m_RGB_labels_m-nm.kml (deflated 51%)\n",
            "  adding: kmls/KML_2018-05_psc_site03-04_120m_labels_m-nm.kml (deflated 51%)\n"
          ],
          "name": "stdout"
        }
      ]
    }
  ]
}