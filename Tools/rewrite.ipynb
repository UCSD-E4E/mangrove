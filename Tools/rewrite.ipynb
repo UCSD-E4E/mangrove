{
  "nbformat": 4,
  "nbformat_minor": 0,
  "metadata": {
    "colab": {
      "name": "rewrite.ipynb",
      "provenance": []
    },
    "kernelspec": {
      "name": "python3",
      "display_name": "Python 3"
    }
  },
  "cells": [
    {
      "cell_type": "code",
      "metadata": {
        "id": "o_Y_IEoF80c8",
        "colab_type": "code",
        "colab": {}
      },
      "source": [
        "%%capture\n",
        "!apt-get update\n",
        "!apt-get install libgdal-dev -y\n",
        "!apt-get install python-gdal -y\n",
        "!apt-get install python-numpy python-scipy -y\n",
        "!pip install rasterio\n",
        "!pip install fiona\n",
        "!pip install geopandas\n",
        "!pip install imgaug\n",
        "!pip install -i https://test.pypi.org/simple/ gis-utils-pkg-dillhicks==0.0.4\n",
        "\n",
        "#Importing GIS Software \n",
        "from rasterio import windows \n",
        "from rasterio.features import shapes \n",
        "from  gis_utils import raster \n",
        "import geopandas as gpd \n",
        "import rasterio \n",
        "import gdal \n",
        "import os "
      ],
      "execution_count": 1,
      "outputs": []
    },
    {
      "cell_type": "code",
      "metadata": {
        "id": "tMP66eKi9LNo",
        "colab_type": "code",
        "colab": {
          "base_uri": "https://localhost:8080/",
          "height": 122
        },
        "outputId": "84477620-bac2-4f33-d36c-74d2fe59cc3a"
      },
      "source": [
        "from google.colab import drive\n",
        "drive.mount('/content/drive')"
      ],
      "execution_count": 2,
      "outputs": [
        {
          "output_type": "stream",
          "text": [
            "Go to this URL in a browser: https://accounts.google.com/o/oauth2/auth?client_id=947318989803-6bn6qk8qdgf4n4g3pfee6491hc0brc4i.apps.googleusercontent.com&redirect_uri=urn%3aietf%3awg%3aoauth%3a2.0%3aoob&scope=email%20https%3a%2f%2fwww.googleapis.com%2fauth%2fdocs.test%20https%3a%2f%2fwww.googleapis.com%2fauth%2fdrive%20https%3a%2f%2fwww.googleapis.com%2fauth%2fdrive.photos.readonly%20https%3a%2f%2fwww.googleapis.com%2fauth%2fpeopleapi.readonly&response_type=code\n",
            "\n",
            "Enter your authorization code:\n",
            "··········\n",
            "Mounted at /content/drive\n"
          ],
          "name": "stdout"
        }
      ]
    },
    {
      "cell_type": "code",
      "metadata": {
        "id": "GrHKh-_d9Mhw",
        "colab_type": "code",
        "colab": {}
      },
      "source": [
        "!cp \"/content/drive/Shared drives/SIO and E4E Mangroves /Data/Orthomosaics/2019-05 Sian Ka'an Reserve/Site 16/skr_2019-05_site16_120m_RGB.tif\" . "
      ],
      "execution_count": 3,
      "outputs": []
    },
    {
      "cell_type": "code",
      "metadata": {
        "id": "q67Io0MU-sV0",
        "colab_type": "code",
        "colab": {}
      },
      "source": [
        "img, meta = raster.load_image(\"/content/skr_2019-05_site16_120m_RGB.tif\")"
      ],
      "execution_count": 4,
      "outputs": []
    },
    {
      "cell_type": "code",
      "metadata": {
        "id": "yQFbYmWl_HIJ",
        "colab_type": "code",
        "colab": {}
      },
      "source": [
        "with rasterio.open(\n",
        "    \"/content/skr_2019-05_site16_120m_RGB_fixed.tif\",\n",
        "    'w',\n",
        "    driver='GTiff',\n",
        "    height=img.shape[0],\n",
        "    width=img.shape[1],\n",
        "    count=img.count,\n",
        "    dtype=array.dtype,\n",
        "    crs='+proj=latlong',\n",
        "    transform=img.transform,\n",
        ") as dst:\n",
        "    dst.write(array)"
      ],
      "execution_count": 11,
      "outputs": []
    },
    {
      "cell_type": "code",
      "metadata": {
        "id": "q4GnYZTeAFhj",
        "colab_type": "code",
        "colab": {}
      },
      "source": [
        "!cp \"/content/skr_2019-05_site16_120m_RGB_fixed.tif\" \"/content/drive/Shared drives/SIO and E4E Mangroves /Data/Orthomosaics/2019-05 Sian Ka'an Reserve/Site 16/skr_2019-05_site16_120m_RGB_fixed.tif\""
      ],
      "execution_count": 12,
      "outputs": []
    }
  ]
}