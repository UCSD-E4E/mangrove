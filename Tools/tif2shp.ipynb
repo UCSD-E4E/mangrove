{
  "nbformat": 4,
  "nbformat_minor": 0,
  "metadata": {
    "colab": {
      "name": "tif2shp.ipynb",
      "provenance": []
    },
    "kernelspec": {
      "name": "python3",
      "display_name": "Python 3"
    }
  },
  "cells": [
    {
      "cell_type": "code",
      "metadata": {
        "id": "c5kMX5tNpW5H",
        "colab_type": "code",
        "colab": {}
      },
      "source": [
        "%%capture\n",
        "\n",
        "!apt-get update\n",
        "!apt-get install libgdal-dev -y\n",
        "!apt-get install python-gdal -y\n",
        "!apt-get install python-numpy python-scipy -y\n",
        "!pip install rasterio\n",
        "!pip install fiona\n",
        "!pip install geopandas\n",
        "!pip install PyCRS\n",
        "!pip install -i https://test.pypi.org/simple/ gis-utils-pkg-dillhicks==0.0.4\n",
        "\n",
        "from rasterio.features import shapes\n",
        "import os\n",
        "from os.path import join\n",
        "import rasterio\n",
        "import geopandas as gpd\n",
        "from gis_utils import raster\n",
        "import numpy as np\n",
        "import pandas as pd"
      ],
      "execution_count": 16,
      "outputs": []
    },
    {
      "cell_type": "code",
      "metadata": {
        "id": "Ap0GkDnlp__F",
        "colab_type": "code",
        "colab": {
          "base_uri": "https://localhost:8080/",
          "height": 122
        },
        "outputId": "457469ef-e687-4beb-f97d-9e5d2acc0304"
      },
      "source": [
        "from google.colab import drive\n",
        "drive.mount('/content/drive')"
      ],
      "execution_count": 3,
      "outputs": [
        {
          "output_type": "stream",
          "text": [
            "Go to this URL in a browser: https://accounts.google.com/o/oauth2/auth?client_id=947318989803-6bn6qk8qdgf4n4g3pfee6491hc0brc4i.apps.googleusercontent.com&redirect_uri=urn%3aietf%3awg%3aoauth%3a2.0%3aoob&response_type=code&scope=email%20https%3a%2f%2fwww.googleapis.com%2fauth%2fdocs.test%20https%3a%2f%2fwww.googleapis.com%2fauth%2fdrive%20https%3a%2f%2fwww.googleapis.com%2fauth%2fdrive.photos.readonly%20https%3a%2f%2fwww.googleapis.com%2fauth%2fpeopleapi.readonly\n",
            "\n",
            "Enter your authorization code:\n",
            "··········\n",
            "Mounted at /content/drive\n"
          ],
          "name": "stdout"
        }
      ]
    },
    {
      "cell_type": "code",
      "metadata": {
        "id": "clolEZ_ktZ2t",
        "colab_type": "code",
        "colab": {}
      },
      "source": [
        "def get_files():\n",
        "    labels = []\n",
        "    #getting labeled tif files in the ML Label Paint Directory\n",
        "    for root, dirs, files in os.walk(\"/content/drive/Shared drives/SIO and E4E Mangroves /Data/Labelled Data/ML Paint Labels\" ):\n",
        "        for file in files: \n",
        "            if file.endswith(\"_MLPaintLabels.tif\"):\n",
        "                labels.append([root, file,\n",
        "                            file.replace(\"_MLPaintLabels.tif\",\"\")])\n",
        "    cur = []\n",
        "\n",
        "    #Getting template tif file and \n",
        "    for label in labels:\n",
        "        for root, dirs, files in os.walk(\"/content/drive/Shared drives/SIO and E4E Mangroves /Data/Orthomosaics/\"):\n",
        "            for file in files:\n",
        "                #finding all normal tifs\n",
        "                if file.startswith(label[2] + \".tif\"):\n",
        "                    dest_shp = join(label[0], os.path.splitext(label[1])[0] + \".shp\")\n",
        "                    file_list = [join(label[0],label[1]),\n",
        "                                 dest_shp,\n",
        "                                 join(root,file)]\n",
        "                                 print\n",
        "                    if not(file_list in cur) and not(os.path.isfile(dest_shp)):\n",
        "                            cur.append(file_list)\n",
        "    return cur"
      ],
      "execution_count": 42,
      "outputs": []
    },
    {
      "cell_type": "code",
      "metadata": {
        "id": "dZkD8q7mwPlA",
        "colab_type": "code",
        "colab": {}
      },
      "source": [
        "\n",
        "def polygonize(label_path, output_file=\"None\", template_path=\"None\", georeferenced = True):\n",
        "    \n",
        "    src, _=  raster.load_image(label_path) \n",
        "    if (template_path != \"None\") and (georeferenced == False):\n",
        "        print(\"Input label is not georeferenced, since we have a  is still good.\")\n",
        "        orig, _ = raster.load_image(template_path)\n",
        "        array = src.read()\n",
        "        results = ({'properties': {'raster_val': v}, 'geometry': s}for i, (s, v) in enumerate(shapes(array, mask=None, transform=orig.transform)))\n",
        "        geoms = list(results)\n",
        "        gdf_polygonized_raster  = gpd.GeoDataFrame.from_features(geoms)\n",
        "\n",
        "\n",
        "    else:\n",
        "        array = src.read()\n",
        "        results = ({'properties': {'raster_val': v}, 'geometry': s}for i, (s, v) in enumerate(shapes(array, mask=None, transform=src.transform)))\n",
        "        geoms = list(results)\n",
        "        gdf_polygonized_raster  = gpd.GeoDataFrame.from_features(geoms)\n",
        "\n",
        "    \n",
        "    if output_file != \"None\":\n",
        "        gdf_polygonized_raster.to_file(output_file)\n",
        "\n",
        "    return gdf_polygonized_raster\n",
        "\n",
        "\n"
      ],
      "execution_count": 52,
      "outputs": []
    },
    {
      "cell_type": "code",
      "metadata": {
        "id": "3Ij-C0S-3yK7",
        "colab_type": "code",
        "colab": {
          "base_uri": "https://localhost:8080/",
          "height": 51
        },
        "outputId": "8fe8b4f0-7b97-4d87-cf1e-da421e72c94a"
      },
      "source": [
        "cur = get_files()\n",
        "\n",
        "for file_list in cur:\n",
        "    polygonize(file_list[0], file_list[1], template_path = file_list[2], georeferenced = False)"
      ],
      "execution_count": 57,
      "outputs": [
        {
          "output_type": "stream",
          "text": [
            "/usr/local/lib/python3.6/dist-packages/rasterio/__init__.py:218: NotGeoreferencedWarning: Dataset has no geotransform set. The identity matrix may be returned.\n",
            "  s = DatasetReader(path, driver=driver, sharing=sharing, **kwargs)\n"
          ],
          "name": "stderr"
        }
      ]
    }
  ]
}